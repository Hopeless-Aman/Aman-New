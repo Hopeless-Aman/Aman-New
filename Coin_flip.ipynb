{
 "cells": [
  {
   "cell_type": "code",
   "execution_count": 145,
   "id": "04df8939-7295-440e-a20e-a0cadb67952a",
   "metadata": {},
   "outputs": [
    {
     "name": "stdout",
     "output_type": "stream",
     "text": [
      "['Heads', 'Heads', 'Heads', 'Heads', 'Tails', 'Tails', 'Tails', 'Heads', 'Tails', 'Tails']\n",
      "Heads: 5\n",
      "Tails: 5\n"
     ]
    }
   ],
   "source": [
    "import random\n",
    "\n",
    "flips = []\n",
    "for x in range(0,10):\n",
    "    flip = random.randint(0,1)\n",
    "    if flip == 0:\n",
    "        flip = \"Heads\"\n",
    "    else:\n",
    "        flip = \"Tails\"\n",
    "    flips.append(flip)\n",
    "\n",
    "print(flips)\n",
    "\n",
    "heads = flips.count(\"Heads\")\n",
    "tails = flips.count(\"Tails\")\n",
    "\n",
    "print(f\"Heads: {heads}\")\n",
    "print(f\"Tails: {tails}\")\n"
   ]
  }
 ],
 "metadata": {
  "kernelspec": {
   "display_name": "Python 3 (ipykernel)",
   "language": "python",
   "name": "python3"
  },
  "language_info": {
   "codemirror_mode": {
    "name": "ipython",
    "version": 3
   },
   "file_extension": ".py",
   "mimetype": "text/x-python",
   "name": "python",
   "nbconvert_exporter": "python",
   "pygments_lexer": "ipython3",
   "version": "3.13.1"
  }
 },
 "nbformat": 4,
 "nbformat_minor": 5
}
